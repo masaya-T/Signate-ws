{
  "nbformat": 4,
  "nbformat_minor": 0,
  "metadata": {
    "colab": {
      "name": "練習問題.ipynb",
      "provenance": [],
      "collapsed_sections": [],
      "mount_file_id": "https://github.com/masaya-T/Machine_Learning/blob/master/Signate_%E7%B7%B4%E7%BF%92%E5%95%8F%E9%A1%8C.ipynb",
      "authorship_tag": "ABX9TyPQPJAx9LViwskd8Ks8nmr1",
      "include_colab_link": true
    },
    "kernelspec": {
      "name": "python3",
      "display_name": "Python 3"
    },
    "language_info": {
      "name": "python"
    }
  },
  "cells": [
    {
      "cell_type": "markdown",
      "metadata": {
        "id": "view-in-github",
        "colab_type": "text"
      },
      "source": [
        "<a href=\"https://colab.research.google.com/github/masaya-T/Signate-ws/blob/main/Signate_%E7%B7%B4%E7%BF%92%E5%95%8F%E9%A1%8C.ipynb\" target=\"_parent\"><img src=\"https://colab.research.google.com/assets/colab-badge.svg\" alt=\"Open In Colab\"/></a>"
      ]
    },
    {
      "cell_type": "markdown",
      "source": [
        "# 事前準備\n",
        "## pip install"
      ],
      "metadata": {
        "id": "O-fDNRmmOmIE"
      }
    },
    {
      "cell_type": "code",
      "execution_count": null,
      "metadata": {
        "id": "HI6uC_DfI3bT",
        "colab": {
          "base_uri": "https://localhost:8080/",
          "height": 750
        },
        "outputId": "8fd7f2c8-02bd-4093-94be-0542b882845e"
      },
      "outputs": [
        {
          "output_type": "stream",
          "name": "stdout",
          "text": [
            "Collecting signate\n",
            "  Downloading signate-0.9.9-py3-none-any.whl (37 kB)\n",
            "Requirement already satisfied: click in /usr/local/lib/python3.7/dist-packages (from signate) (7.1.2)\n",
            "Requirement already satisfied: python-dateutil in /usr/local/lib/python3.7/dist-packages (from signate) (2.8.2)\n",
            "Requirement already satisfied: tabulate in /usr/local/lib/python3.7/dist-packages (from signate) (0.8.9)\n",
            "Collecting six>=1.16\n",
            "  Downloading six-1.16.0-py2.py3-none-any.whl (11 kB)\n",
            "Collecting wget\n",
            "  Downloading wget-3.2.zip (10 kB)\n",
            "Requirement already satisfied: certifi in /usr/local/lib/python3.7/dist-packages (from signate) (2021.10.8)\n",
            "Collecting urllib3>=1.26.7\n",
            "  Downloading urllib3-1.26.8-py2.py3-none-any.whl (138 kB)\n",
            "\u001b[K     |████████████████████████████████| 138 kB 9.5 MB/s \n",
            "\u001b[?25hBuilding wheels for collected packages: wget\n",
            "  Building wheel for wget (setup.py) ... \u001b[?25l\u001b[?25hdone\n",
            "  Created wheel for wget: filename=wget-3.2-py3-none-any.whl size=9675 sha256=bfbc59d44d860bf45d3a6250c84259bacd6029a4a802c605688a4d714f8401d2\n",
            "  Stored in directory: /root/.cache/pip/wheels/a1/b6/7c/0e63e34eb06634181c63adacca38b79ff8f35c37e3c13e3c02\n",
            "Successfully built wget\n",
            "Installing collected packages: six, wget, urllib3, signate\n",
            "  Attempting uninstall: six\n",
            "    Found existing installation: six 1.15.0\n",
            "    Uninstalling six-1.15.0:\n",
            "      Successfully uninstalled six-1.15.0\n",
            "  Attempting uninstall: urllib3\n",
            "    Found existing installation: urllib3 1.24.3\n",
            "    Uninstalling urllib3-1.24.3:\n",
            "      Successfully uninstalled urllib3-1.24.3\n",
            "\u001b[31mERROR: pip's dependency resolver does not currently take into account all the packages that are installed. This behaviour is the source of the following dependency conflicts.\n",
            "tensorflow 2.8.0 requires tf-estimator-nightly==2.8.0.dev2021122109, which is not installed.\n",
            "requests 2.23.0 requires urllib3!=1.25.0,!=1.25.1,<1.26,>=1.21.1, but you have urllib3 1.26.8 which is incompatible.\n",
            "google-colab 1.0.0 requires six~=1.15.0, but you have six 1.16.0 which is incompatible.\n",
            "datascience 0.10.6 requires folium==0.2.1, but you have folium 0.8.3 which is incompatible.\n",
            "albumentations 0.1.12 requires imgaug<0.2.7,>=0.2.5, but you have imgaug 0.2.9 which is incompatible.\u001b[0m\n",
            "Successfully installed signate-0.9.9 six-1.16.0 urllib3-1.26.8 wget-3.2\n"
          ]
        },
        {
          "output_type": "display_data",
          "data": {
            "application/vnd.colab-display-data+json": {
              "pip_warning": {
                "packages": [
                  "six"
                ]
              }
            }
          },
          "metadata": {}
        },
        {
          "output_type": "stream",
          "name": "stderr",
          "text": [
            "/usr/local/lib/python3.7/dist-packages/requests/__init__.py:91: RequestsDependencyWarning: urllib3 (1.26.8) or chardet (3.0.4) doesn't match a supported version!\n",
            "  RequestsDependencyWarning)\n"
          ]
        },
        {
          "output_type": "stream",
          "name": "stdout",
          "text": [
            "Download 100%.\n"
          ]
        }
      ],
      "source": [
        "!pip install signate\n",
        "\n",
        "from googleapiclient.discovery import build\n",
        "import io, os\n",
        "from googleapiclient.http import MediaIoBaseDownload\n",
        "from google.colab import auth\n",
        "\n",
        "\n",
        "auth.authenticate_user()\n",
        "\n",
        "drive_service = build('drive', 'v3')\n",
        "results = drive_service.files().list(\n",
        "        q=\"name = 'signate.json'\", fields=\"files(id)\").execute()\n",
        "signate_api_key = results.get('files', [])\n",
        "\n",
        "filename = \"/root/.signate/signate.json\"\n",
        "os.makedirs(os.path.dirname(filename), exist_ok=True)\n",
        "\n",
        "request = drive_service.files().get_media(fileId=signate_api_key[0]['id'])\n",
        "fh = io.FileIO(filename, 'wb')\n",
        "downloader = MediaIoBaseDownload(fh, request)\n",
        "done = False\n",
        "while done is False:\n",
        "    status, done = downloader.next_chunk()\n",
        "    print(\"Download %d%%.\" % int(status.progress() * 100))\n",
        "os.chmod(filename, 600)"
      ]
    },
    {
      "cell_type": "code",
      "source": [
        "! signate list"
      ],
      "metadata": {
        "colab": {
          "base_uri": "https://localhost:8080/"
        },
        "id": "1kDgI8_JOuQt",
        "outputId": "f2353927-9493-475f-ac35-34c210bd1deb"
      },
      "execution_count": null,
      "outputs": [
        {
          "output_type": "stream",
          "name": "stdout",
          "text": [
            "/bin/bash: signate: command not found\n"
          ]
        }
      ]
    },
    {
      "cell_type": "markdown",
      "source": [
        "# コンペデータ"
      ],
      "metadata": {
        "id": "rAaZr-rwO44c"
      }
    },
    {
      "cell_type": "markdown",
      "source": [
        "## 【練習問題】自動車の走行距離予測\n",
        "\n",
        "自動車の属性データからガソリン１ガロンあたりの走行距離を予測するモデルを作成していただきます\n",
        "\n",
        "自動車が誕生したのは1769年。私達の生活を劇的に変化させました。現代も、電気自動車や自動運転技術など進化を続けています。\n",
        "\n",
        "ここでは、自動車の属性データから走行距離の予測にチャレンジしていただきます。\n",
        "\n",
        "本コンペを活用して、SIGNATEでのデータ解析・モデル構築を体験してください。\n",
        "\n",
        "データ概要\n",
        "\n",
        "課題種別：回帰\n",
        "データ種別：多変量\n",
        "学習データサンプル数：199\n",
        "説明変数の数：8\n",
        "欠損値：あり\n",
        "\n",
        "|カラム\t|ヘッダ名称\t|データ型\t|説明|\n",
        "|-|-|-|-|\n",
        "|0|\tid\t|int\t|インデックスとして使用|\n",
        "|1|\tmpg\t|float\t|ガソリン１ガロンあたりの走行距離|（mile par gallon の略）\n",
        "|2|\tcylinders|\tvarchar|\tシリンダー\n",
        "|3|\tdisplacement|\tfloat|\t排気量\n",
        "|4|\thorsepower|\tfloat|\t馬力\n",
        "|5|\tweight|\tfloat\t|重量\n",
        "|6|\tacceleration\t|float|\t加速度\n",
        "|7|\tmodel |year\tvarchar\t|年式\n",
        "|8|\torigin|\tvarchar|\t起源\n",
        "|9|\tcar name|\tvarchar|\t車名"
      ],
      "metadata": {
        "id": "gGqIBt54QvvT"
      }
    },
    {
      "cell_type": "code",
      "source": [
        "! signate download --competition-id=121"
      ],
      "metadata": {
        "id": "iES9rP5gPQQk",
        "colab": {
          "base_uri": "https://localhost:8080/"
        },
        "outputId": "2628d7ec-d5f2-4f30-aa13-a5ff412f6d84"
      },
      "execution_count": null,
      "outputs": [
        {
          "output_type": "stream",
          "name": "stdout",
          "text": [
            "sample_submit.csv\n",
            "\n",
            "test.tsv\n",
            "\n",
            "train.tsv\n",
            "\n",
            "\u001b[32m\n",
            "Download completed.\u001b[0m\n"
          ]
        }
      ]
    },
    {
      "cell_type": "markdown",
      "source": [
        "## 実装\n",
        "### データ用意"
      ],
      "metadata": {
        "id": "A2yoLeRNTuqM"
      }
    },
    {
      "cell_type": "code",
      "source": [
        "from re import X\n",
        "import numpy as np\n",
        "import pandas as pd\n",
        "import sklearn\n",
        "from sklearn.metrics import *\n",
        "import matplotlib.pyplot as plt\n",
        "from sklearn.pipeline import make_pipeline\n",
        "from sklearn.preprocessing import StandardScaler\n",
        "\n",
        "train_data=pd.read_table('/content/drive/MyDrive/自動車の走行距離予測/train.tsv')\n",
        "test_data=pd.read_table('/content/drive/MyDrive/自動車の走行距離予測/test.tsv')\n",
        "\n",
        "#cols=['id', 'cylinders', 'displacement', 'horsepower', 'weight', 'acceleration', 'model year', 'origin']\n",
        "cols=['displacement', 'horsepower', 'weight']\n",
        "\n",
        "# テストデータをランダムサンプリングで検証データを抽出\n",
        "valid_data=train_data.sample(frac=0.1, random_state=0)\n",
        "# 元データからdf_testのインデックスに該当するデータを除外する\n",
        "train_data = train_data.drop(valid_data.index)\n",
        "\n",
        "train_data=train_data[train_data['horsepower'] != '?']\n",
        "valid_data=valid_data[valid_data['horsepower'] != '?']\n",
        "test_data=test_data[test_data['horsepower'] != '?']\n",
        "\n",
        "y_train=train_data['mpg'].values\n",
        "x_train=train_data[cols]\n",
        "x_train['horsepower']=train_data['horsepower'].astype(float)\n",
        "\n",
        "y_valid=valid_data['mpg'].values\n",
        "x_valid=valid_data[cols]\n",
        "x_valid['horsepower']=x_valid['horsepower'].astype(float)\n",
        "\n",
        "x_test=test_data[cols]\n",
        "\n",
        "print(x_train.shape,y_train.shape)\n",
        "print(x_valid.shape,y_valid.shape)\n",
        "print(x_train.dtypes)\n"
      ],
      "metadata": {
        "id": "SBgkYMzsRoDi",
        "colab": {
          "base_uri": "https://localhost:8080/"
        },
        "outputId": "625fc9e7-772f-4166-d963-b6e8d4d1fbc8"
      },
      "execution_count": 35,
      "outputs": [
        {
          "output_type": "stream",
          "name": "stdout",
          "text": [
            "(176, 3) (176,)\n",
            "(19, 3) (19,)\n",
            "displacement    float64\n",
            "horsepower      float64\n",
            "weight          float64\n",
            "dtype: object\n"
          ]
        },
        {
          "output_type": "stream",
          "name": "stderr",
          "text": [
            "/usr/local/lib/python3.7/dist-packages/ipykernel_launcher.py:27: SettingWithCopyWarning: \n",
            "A value is trying to be set on a copy of a slice from a DataFrame.\n",
            "Try using .loc[row_indexer,col_indexer] = value instead\n",
            "\n",
            "See the caveats in the documentation: https://pandas.pydata.org/pandas-docs/stable/user_guide/indexing.html#returning-a-view-versus-a-copy\n",
            "/usr/local/lib/python3.7/dist-packages/ipykernel_launcher.py:31: SettingWithCopyWarning: \n",
            "A value is trying to be set on a copy of a slice from a DataFrame.\n",
            "Try using .loc[row_indexer,col_indexer] = value instead\n",
            "\n",
            "See the caveats in the documentation: https://pandas.pydata.org/pandas-docs/stable/user_guide/indexing.html#returning-a-view-versus-a-copy\n"
          ]
        }
      ]
    },
    {
      "cell_type": "markdown",
      "source": [
        "## データ確認\n"
      ],
      "metadata": {
        "id": "DwRj9KFKC-IV"
      }
    },
    {
      "cell_type": "code",
      "source": [
        "from sklearn.datasets import load_boston\n",
        "from sklearn.feature_selection import SelectKBest, f_regression\n",
        "\n",
        "selector = SelectKBest(score_func=f_regression, k=6) \n",
        "selector.fit(x_train,y_train)\n",
        "mask = selector.get_support()    # 各特徴量を選択したか否かのmaskを取得\n",
        "\n",
        "print(x_train.columns.tolist())\n",
        "print(mask)\n",
        "print(x_train.columns[mask].tolist())"
      ],
      "metadata": {
        "colab": {
          "base_uri": "https://localhost:8080/"
        },
        "id": "nRPDlDK5DDqX",
        "outputId": "00cb3732-dd95-4228-9127-76d684dc7196"
      },
      "execution_count": 21,
      "outputs": [
        {
          "output_type": "stream",
          "name": "stdout",
          "text": [
            "['id', 'cylinders', 'displacement', 'horsepower', 'weight', 'acceleration', 'model year', 'origin']\n",
            "[False  True  True  True  True False  True  True]\n",
            "['cylinders', 'displacement', 'horsepower', 'weight', 'model year', 'origin']\n"
          ]
        }
      ]
    },
    {
      "cell_type": "code",
      "source": [
        "from sklearn.datasets import load_boston\n",
        "from sklearn.feature_selection import SelectKBest, f_regression\n",
        "\n",
        "selector = SelectKBest(score_func=f_regression, k=3) \n",
        "selector.fit(x_train,y_train)\n",
        "mask = selector.get_support()    # 各特徴量を選択したか否かのmaskを取得\n",
        "\n",
        "print(x_train.columns.tolist())\n",
        "print(mask)\n",
        "print(x_train.columns[mask].tolist())"
      ],
      "metadata": {
        "colab": {
          "base_uri": "https://localhost:8080/"
        },
        "id": "sN7hR-Gtyggv",
        "outputId": "54ca9bea-01ee-4a0b-9187-ab0690e17a21"
      },
      "execution_count": 22,
      "outputs": [
        {
          "output_type": "stream",
          "name": "stdout",
          "text": [
            "['id', 'cylinders', 'displacement', 'horsepower', 'weight', 'acceleration', 'model year', 'origin']\n",
            "[False False  True  True  True False False False]\n",
            "['displacement', 'horsepower', 'weight']\n"
          ]
        }
      ]
    },
    {
      "cell_type": "markdown",
      "source": [
        "# 線形回帰"
      ],
      "metadata": {
        "id": "IHik-CZoy8Z5"
      }
    },
    {
      "cell_type": "code",
      "source": [
        "from sklearn.linear_model import LinearRegression\n",
        "\n",
        "\n",
        "def predictLogisticRegression(X_train,Y_train,X_test,Y_test):\n",
        "    # モデル作成（ロジスティック回帰）\n",
        "    # model = LinearRegression(normalize=True)\n",
        "    model = make_pipeline(StandardScaler(with_mean=False), LinearRegression())\n",
        "    # 学習\n",
        "    model.fit(X_train, Y_train)\n",
        "    # 予測\n",
        "    y_train_pred = model.predict(X_train)\n",
        "    y_pred = model.predict(X_test)\n",
        "    # 学習データを用いたときの平均二乗誤差を出力\n",
        "    train_loss=mean_squared_error(Y_train, y_train_pred)\n",
        "    # 検証データを用いたときの平均二乗誤差を出力\n",
        "    valid_loss=mean_squared_error(Y_test, y_pred)\n",
        "    print('MSE train data: ', train_loss) \n",
        "    print('MSE test data: ', valid_loss)         \n",
        "    \n",
        "    return 0\n",
        "\n",
        "predictLogisticRegression(x_train,y_train,x_valid,y_valid)"
      ],
      "metadata": {
        "colab": {
          "base_uri": "https://localhost:8080/"
        },
        "id": "XnN-GPPyy5sb",
        "outputId": "f4773774-ef79-480b-b205-a76c630e3b03"
      },
      "execution_count": 13,
      "outputs": [
        {
          "output_type": "stream",
          "name": "stdout",
          "text": [
            "MSE train data:  18.56199609935722\n",
            "MSE test data:  12.077008693503076\n"
          ]
        },
        {
          "output_type": "execute_result",
          "data": {
            "text/plain": [
              "0"
            ]
          },
          "metadata": {},
          "execution_count": 13
        }
      ]
    },
    {
      "cell_type": "markdown",
      "source": [
        "# ElasticNet回帰"
      ],
      "metadata": {
        "id": "IUmSDyupTXNo"
      }
    },
    {
      "cell_type": "code",
      "source": [
        "from sklearn.linear_model import ElasticNet\n",
        "\n",
        "def predictElasticNet(X_train,Y_train,X_test,Y_test):\n",
        "  # モデル作成（ElasticNet回帰）\n",
        "  model = ElasticNet(alpha=0.05)\n",
        "  model.fit(X_train, Y_train)\n",
        "\n",
        "  # 回帰　\n",
        "  y_train_pred = model.predict(X_train)\n",
        "  y_pred= model.predict(X_test)\n",
        "  # 評価\n",
        "  # 決定係数(R2)\n",
        "  r2_elasticnet = r2_score(Y_train, y_train_pred)\n",
        "  r2_elasticnet = r2_score(Y_test, y_pred)\n",
        "\n",
        "  # 学習データを用いたときの平均二乗誤差を出力\n",
        "  train_loss=mean_squared_error(Y_train, y_train_pred)\n",
        "  # 検証データを用いたときの平均二乗誤差を出力\n",
        "  valid_loss=mean_squared_error(Y_test, y_pred)\n",
        "  \n",
        "  print('MSE train data: ', train_loss) \n",
        "  print('MSE test data: ', valid_loss)        \n",
        "\n",
        "  # 回帰係数\n",
        "  print(\"Coef = \", model.coef_)\n",
        "  \n",
        "predictElasticNet(x_train,y_train,x_valid,y_valid)"
      ],
      "metadata": {
        "colab": {
          "base_uri": "https://localhost:8080/"
        },
        "id": "0XGsphgVTW_s",
        "outputId": "0b71edc6-c047-4d7b-ba66-0d7bc86fafd5"
      },
      "execution_count": 14,
      "outputs": [
        {
          "output_type": "stream",
          "name": "stdout",
          "text": [
            "MSE train data:  18.5619983888248\n",
            "MSE test data:  12.07981460185344\n",
            "Coef =  [-0.01002656 -0.05365063 -0.00460504]\n"
          ]
        }
      ]
    },
    {
      "cell_type": "markdown",
      "source": [
        ""
      ],
      "metadata": {
        "id": "X4ahNYg1d1ic"
      }
    },
    {
      "cell_type": "markdown",
      "source": [
        "# RandomForest回帰"
      ],
      "metadata": {
        "id": "QbT9u67pcIqN"
      }
    },
    {
      "cell_type": "code",
      "source": [
        "from sklearn.ensemble import RandomForestRegressor\n",
        "\n",
        "def predictRandomForest(X_train,Y_train,X_test,Y_test):\n",
        "  # モデル作成（RandomForest回帰）\n",
        "  model = RandomForestRegressor()\n",
        "  model.fit(X_train, Y_train)\n",
        "\n",
        "  # 回帰　\n",
        "  y_train_pred = model.predict(X_train)\n",
        "  y_pred= model.predict(X_test)\n",
        "  # 評価\n",
        "\n",
        "  # 学習データを用いたときの平均二乗誤差を出力\n",
        "  train_loss=mean_squared_error(Y_train, y_train_pred)\n",
        "  # 検証データを用いたときの平均二乗誤差を出力\n",
        "  valid_loss=mean_squared_error(Y_test, y_pred)\n",
        "  \n",
        "  print('MSE train data: ', train_loss) \n",
        "  print('MSE test data: ', valid_loss)    \n",
        "\n",
        "  # 変数重要度\n",
        "  print(\"feature_importances = \", model.feature_importances_)  \n",
        "predictRandomForest(x_train,y_train,x_valid,y_valid)"
      ],
      "metadata": {
        "colab": {
          "base_uri": "https://localhost:8080/"
        },
        "id": "nYUuU9BYcMGS",
        "outputId": "b7d755e7-ed39-469e-fb30-b87cff9554f2"
      },
      "execution_count": 41,
      "outputs": [
        {
          "output_type": "stream",
          "name": "stdout",
          "text": [
            "MSE train data:  2.517595999999998\n",
            "MSE test data:  14.509540578947382\n",
            "feature_importances =  [0.44656733 0.31738884 0.23604383]\n"
          ]
        }
      ]
    },
    {
      "cell_type": "markdown",
      "source": [
        "# GBDT（勾配ブースティング木）"
      ],
      "metadata": {
        "id": "JBz_4JUsd2Uy"
      }
    },
    {
      "cell_type": "code",
      "source": [
        "from sklearn.ensemble import GradientBoostingRegressor\n",
        "\n",
        "def predictGBDT(X_train,Y_train,X_test,Y_test):\n",
        "  # モデル作成（勾配ブースティング木）\n",
        "  model = GradientBoostingRegressor()\n",
        "  model.fit(X_train, Y_train)\n",
        "\n",
        "  # 回帰　\n",
        "  y_train_pred = model.predict(X_train)\n",
        "  y_pred= model.predict(X_test)\n",
        "  # 評価\n",
        "\n",
        "  # 学習データを用いたときの平均二乗誤差を出力\n",
        "  train_loss=mean_squared_error(Y_train, y_train_pred)\n",
        "  # 検証データを用いたときの平均二乗誤差を出力\n",
        "  valid_loss=mean_squared_error(Y_test, y_pred)\n",
        "  \n",
        "  print('MSE train data: ', train_loss) \n",
        "  print('MSE test data: ', valid_loss)    \n",
        "\n",
        "  # 変数重要度\n",
        "  print(\"feature_importances = \", model.feature_importances_)  \n",
        "predictGBDT(x_train,y_train,x_valid,y_valid)"
      ],
      "metadata": {
        "colab": {
          "base_uri": "https://localhost:8080/"
        },
        "id": "UnFvjeG2d3fe",
        "outputId": "d0fce1cf-0bb4-407b-ddc6-7f880d1d9dbd"
      },
      "execution_count": 38,
      "outputs": [
        {
          "output_type": "stream",
          "name": "stdout",
          "text": [
            "MSE train data:  2.6262446251345377\n",
            "MSE test data:  15.804602920342553\n",
            "feature_importances =  [0.56742039 0.2731126  0.15946701]\n"
          ]
        }
      ]
    },
    {
      "cell_type": "markdown",
      "source": [
        "#  SVR（サポートベクターマシーン）"
      ],
      "metadata": {
        "id": "GcvwKWTGeLIr"
      }
    },
    {
      "cell_type": "code",
      "source": [
        "from sklearn.svm import SVR\n",
        "\n",
        "def predictSVR(X_train,Y_train,X_test,Y_test):\n",
        "  # モデル作成（RandomForest回帰）\n",
        "  model = SVR(kernel='linear', C=1, epsilon=0.1, gamma='auto')\n",
        "  model.fit(X_train, Y_train)\n",
        "\n",
        "  # 回帰　\n",
        "  y_train_pred = model.predict(X_train)\n",
        "  y_pred= model.predict(X_test)\n",
        "  # 評価\n",
        "\n",
        "  # 学習データを用いたときの平均二乗誤差を出力\n",
        "  train_loss=mean_squared_error(Y_train, y_train_pred)\n",
        "  # 検証データを用いたときの平均二乗誤差を出力\n",
        "  valid_loss=mean_squared_error(Y_test, y_pred)\n",
        "  \n",
        "  print('MSE train data: ', train_loss) \n",
        "  print('MSE test data: ', valid_loss)    \n",
        "\n",
        "  # 変数重要度\n",
        "  print(\"feature_importances = \", model.feature_importances_)  \n",
        "predictRandomForest(x_train,y_train,x_valid,y_valid)"
      ],
      "metadata": {
        "colab": {
          "base_uri": "https://localhost:8080/"
        },
        "id": "OyMnNOF0eKVo",
        "outputId": "ce53b072-4022-4bde-8646-a354ec10ebd0"
      },
      "execution_count": 37,
      "outputs": [
        {
          "output_type": "stream",
          "name": "stdout",
          "text": [
            "MSE train data:  2.532188267045452\n",
            "MSE test data:  12.148343684210541\n",
            "feature_importances =  [0.47098805 0.26397951 0.26503243]\n"
          ]
        }
      ]
    },
    {
      "cell_type": "markdown",
      "source": [
        "# XGBoost"
      ],
      "metadata": {
        "id": "XctLSD1meKsD"
      }
    },
    {
      "cell_type": "code",
      "source": [
        ""
      ],
      "metadata": {
        "id": "DoBpR1SLkJX1"
      },
      "execution_count": null,
      "outputs": []
    },
    {
      "cell_type": "code",
      "source": [
        "import xgboost as xgb\n",
        "from sklearn.ensemble import GradientBoostingRegressor\n",
        "from sklearn.ensemble import RandomForestRegressor\n",
        "\n",
        "def predictXGBoostCV(X_train,Y_train,X_test,Y_test):\n",
        "    # xgboostモデルの作成\n",
        "    model = xgb.XGBRegressor()\n",
        "    model.fit(X_train, Y_train)\n",
        "\n",
        "    # 回帰　\n",
        "    y_train_pred = model.predict(X_train)\n",
        "    y_pred= model.predict(X_test)\n",
        "    # 評価\n",
        "\n",
        "    # 学習データを用いたときの平均二乗誤差を出力\n",
        "    train_loss=mean_squared_error(Y_train, y_train_pred)\n",
        "    # 検証データを用いたときの平均二乗誤差を出力\n",
        "    valid_loss=mean_squared_error(Y_test, y_pred)\n",
        "    \n",
        "    print('MSE train data: ', train_loss) \n",
        "    print('MSE test data: ', valid_loss)    \n",
        "\n",
        "    # 変数重要度\n",
        "    print(\"feature_importances = \", model.feature_importances_)  \n",
        "\n",
        "predictXGBoostCV(x_train,y_train,x_valid,y_valid)"
      ],
      "metadata": {
        "colab": {
          "base_uri": "https://localhost:8080/"
        },
        "id": "Xh4IAC1nf-6_",
        "outputId": "3caa8573-ee5d-46cf-d7c8-d64ffa0fbd32"
      },
      "execution_count": 43,
      "outputs": [
        {
          "output_type": "stream",
          "name": "stdout",
          "text": [
            "[13:21:36] WARNING: /workspace/src/objective/regression_obj.cu:152: reg:linear is now deprecated in favor of reg:squarederror.\n",
            "MSE train data:  4.109376300918567\n",
            "MSE test data:  15.731012095404962\n",
            "feature_importances =  [0.53060484 0.34756213 0.12183305]\n"
          ]
        }
      ]
    },
    {
      "cell_type": "markdown",
      "source": [
        "# Grid Seatch"
      ],
      "metadata": {
        "id": "MQr1Ru3bl564"
      }
    },
    {
      "cell_type": "code",
      "source": [
        "from sklearn.model_selection import GridSearchCV\n",
        "import xgboost as xgb\n",
        "from sklearn.ensemble import GradientBoostingRegressor\n",
        "from sklearn.ensemble import RandomForestRegressor\n",
        "def GridSearch(X_train,Y_train,X_test,Y_test):\n",
        "    \n",
        "    '''-------------------------------------------------------------------------------------------------------'''\n",
        "    # xgboostモデルの作成\n",
        "    model_xgb = xgb.XGBRegressor()\n",
        "    model_xgb.fit(X_train, Y_train)\n",
        "     # ハイパーパラメータ探索\n",
        "    clf_cv = GridSearchCV(model_xgb, {'max_depth': [2,4,6], 'n_estimators': [50,100,200]}, verbose=1)\n",
        "    clf_cv.fit(X_train, Y_train)\n",
        "\n",
        "    # 回帰　\n",
        "    y_train_pred = clf_cv.predict(X_train)\n",
        "    y_pred= clf_cv.predict(X_test)\n",
        "    # 学習データを用いたときの平均二乗誤差を出力\n",
        "    train_loss=mean_squared_error(Y_train, y_train_pred)\n",
        "    # 検証データを用いたときの平均二乗誤差を出力\n",
        "    valid_loss=mean_squared_error(Y_test, y_pred)\n",
        "    \n",
        "    print('MSE train data: ', train_loss) \n",
        "    print('MSE test data: ', valid_loss)    \n",
        "\n",
        "    '''-------------------------------------------------------------------------------------------------------'''\n",
        "    # モデル作成（勾配ブースティング木）\n",
        "    model_GBR = GradientBoostingRegressor()\n",
        "    model_GBR.fit(X_train, Y_train)\n",
        "    # ハイパーパラメータ探索\n",
        "    clf_cv = GridSearchCV(model_GBR, {'max_depth': [2,4,6], 'n_estimators': [50,100,200]}, verbose=1)\n",
        "    clf_cv.fit(X_train, Y_train)\n",
        "\n",
        "    # 回帰　\n",
        "    y_train_pred = clf_cv.predict(X_train)\n",
        "    y_pred= clf_cv.predict(X_test)\n",
        "    # 学習データを用いたときの平均二乗誤差を出力\n",
        "    train_loss=mean_squared_error(Y_train, y_train_pred)\n",
        "    # 検証データを用いたときの平均二乗誤差を出力\n",
        "    valid_loss=mean_squared_error(Y_test, y_pred)\n",
        "    \n",
        "    print('MSE train data: ', train_loss) \n",
        "    print('MSE test data: ', valid_loss)\n",
        "\n",
        "    '''-------------------------------------------------------------------------------------------------------'''\n",
        "    # モデル作成（RandomForest回帰）\n",
        "    model_RFR = RandomForestRegressor()\n",
        "    model_RFR.fit(X_train, Y_train)\n",
        "    # ハイパーパラメータ探索\n",
        "    clf_cv = GridSearchCV(model_RFR, {'max_depth': [2,4,6], 'n_estimators': [50,100,200]}, verbose=1)\n",
        "    clf_cv.fit(X_train, Y_train)\n",
        "\n",
        "    # 回帰　\n",
        "    y_train_pred = clf_cv.predict(X_train)\n",
        "    y_pred= clf_cv.predict(X_test)\n",
        "    # 学習データを用いたときの平均二乗誤差を出力\n",
        "    train_loss=mean_squared_error(Y_train, y_train_pred)\n",
        "    # 検証データを用いたときの平均二乗誤差を出力\n",
        "    valid_loss=mean_squared_error(Y_test, y_pred)\n",
        "    \n",
        "    print('MSE train data: ', train_loss) \n",
        "    print('MSE test data: ', valid_loss)   \n",
        "GridSearch(x_train,y_train,x_valid,y_valid)\n"
      ],
      "metadata": {
        "colab": {
          "base_uri": "https://localhost:8080/"
        },
        "id": "cNVd9l-7l9eb",
        "outputId": "6b2a3312-bdcf-424d-88a3-13a4f71539e7"
      },
      "execution_count": 45,
      "outputs": [
        {
          "output_type": "stream",
          "name": "stdout",
          "text": [
            "[13:28:00] WARNING: /workspace/src/objective/regression_obj.cu:152: reg:linear is now deprecated in favor of reg:squarederror.\n",
            "Fitting 5 folds for each of 9 candidates, totalling 45 fits\n",
            "[13:28:00] WARNING: /workspace/src/objective/regression_obj.cu:152: reg:linear is now deprecated in favor of reg:squarederror.\n",
            "[13:28:00] WARNING: /workspace/src/objective/regression_obj.cu:152: reg:linear is now deprecated in favor of reg:squarederror.\n",
            "[13:28:00] WARNING: /workspace/src/objective/regression_obj.cu:152: reg:linear is now deprecated in favor of reg:squarederror.\n",
            "[13:28:00] WARNING: /workspace/src/objective/regression_obj.cu:152: reg:linear is now deprecated in favor of reg:squarederror.\n",
            "[13:28:00] WARNING: /workspace/src/objective/regression_obj.cu:152: reg:linear is now deprecated in favor of reg:squarederror.\n",
            "[13:28:00] WARNING: /workspace/src/objective/regression_obj.cu:152: reg:linear is now deprecated in favor of reg:squarederror.\n",
            "[13:28:00] WARNING: /workspace/src/objective/regression_obj.cu:152: reg:linear is now deprecated in favor of reg:squarederror.\n",
            "[13:28:00] WARNING: /workspace/src/objective/regression_obj.cu:152: reg:linear is now deprecated in favor of reg:squarederror.\n",
            "[13:28:00] WARNING: /workspace/src/objective/regression_obj.cu:152: reg:linear is now deprecated in favor of reg:squarederror.\n",
            "[13:28:00] WARNING: /workspace/src/objective/regression_obj.cu:152: reg:linear is now deprecated in favor of reg:squarederror.\n",
            "[13:28:00] WARNING: /workspace/src/objective/regression_obj.cu:152: reg:linear is now deprecated in favor of reg:squarederror.\n",
            "[13:28:00] WARNING: /workspace/src/objective/regression_obj.cu:152: reg:linear is now deprecated in favor of reg:squarederror.\n",
            "[13:28:00] WARNING: /workspace/src/objective/regression_obj.cu:152: reg:linear is now deprecated in favor of reg:squarederror.\n",
            "[13:28:00] WARNING: /workspace/src/objective/regression_obj.cu:152: reg:linear is now deprecated in favor of reg:squarederror.\n",
            "[13:28:00] WARNING: /workspace/src/objective/regression_obj.cu:152: reg:linear is now deprecated in favor of reg:squarederror.\n",
            "[13:28:00] WARNING: /workspace/src/objective/regression_obj.cu:152: reg:linear is now deprecated in favor of reg:squarederror.\n",
            "[13:28:00] WARNING: /workspace/src/objective/regression_obj.cu:152: reg:linear is now deprecated in favor of reg:squarederror.\n",
            "[13:28:00] WARNING: /workspace/src/objective/regression_obj.cu:152: reg:linear is now deprecated in favor of reg:squarederror.\n",
            "[13:28:00] WARNING: /workspace/src/objective/regression_obj.cu:152: reg:linear is now deprecated in favor of reg:squarederror.\n",
            "[13:28:00] WARNING: /workspace/src/objective/regression_obj.cu:152: reg:linear is now deprecated in favor of reg:squarederror.\n",
            "[13:28:00] WARNING: /workspace/src/objective/regression_obj.cu:152: reg:linear is now deprecated in favor of reg:squarederror.\n",
            "[13:28:00] WARNING: /workspace/src/objective/regression_obj.cu:152: reg:linear is now deprecated in favor of reg:squarederror.\n",
            "[13:28:01] WARNING: /workspace/src/objective/regression_obj.cu:152: reg:linear is now deprecated in favor of reg:squarederror.\n",
            "[13:28:01] WARNING: /workspace/src/objective/regression_obj.cu:152: reg:linear is now deprecated in favor of reg:squarederror.\n",
            "[13:28:01] WARNING: /workspace/src/objective/regression_obj.cu:152: reg:linear is now deprecated in favor of reg:squarederror.\n",
            "[13:28:01] WARNING: /workspace/src/objective/regression_obj.cu:152: reg:linear is now deprecated in favor of reg:squarederror.\n",
            "[13:28:01] WARNING: /workspace/src/objective/regression_obj.cu:152: reg:linear is now deprecated in favor of reg:squarederror.\n",
            "[13:28:01] WARNING: /workspace/src/objective/regression_obj.cu:152: reg:linear is now deprecated in favor of reg:squarederror.\n",
            "[13:28:01] WARNING: /workspace/src/objective/regression_obj.cu:152: reg:linear is now deprecated in favor of reg:squarederror.\n",
            "[13:28:01] WARNING: /workspace/src/objective/regression_obj.cu:152: reg:linear is now deprecated in favor of reg:squarederror.\n",
            "[13:28:01] WARNING: /workspace/src/objective/regression_obj.cu:152: reg:linear is now deprecated in favor of reg:squarederror.\n",
            "[13:28:01] WARNING: /workspace/src/objective/regression_obj.cu:152: reg:linear is now deprecated in favor of reg:squarederror.\n",
            "[13:28:01] WARNING: /workspace/src/objective/regression_obj.cu:152: reg:linear is now deprecated in favor of reg:squarederror.\n",
            "[13:28:01] WARNING: /workspace/src/objective/regression_obj.cu:152: reg:linear is now deprecated in favor of reg:squarederror.\n",
            "[13:28:01] WARNING: /workspace/src/objective/regression_obj.cu:152: reg:linear is now deprecated in favor of reg:squarederror.\n",
            "[13:28:01] WARNING: /workspace/src/objective/regression_obj.cu:152: reg:linear is now deprecated in favor of reg:squarederror.\n",
            "[13:28:01] WARNING: /workspace/src/objective/regression_obj.cu:152: reg:linear is now deprecated in favor of reg:squarederror.\n",
            "[13:28:01] WARNING: /workspace/src/objective/regression_obj.cu:152: reg:linear is now deprecated in favor of reg:squarederror.\n",
            "[13:28:01] WARNING: /workspace/src/objective/regression_obj.cu:152: reg:linear is now deprecated in favor of reg:squarederror.\n",
            "[13:28:01] WARNING: /workspace/src/objective/regression_obj.cu:152: reg:linear is now deprecated in favor of reg:squarederror.\n",
            "[13:28:01] WARNING: /workspace/src/objective/regression_obj.cu:152: reg:linear is now deprecated in favor of reg:squarederror.\n",
            "[13:28:01] WARNING: /workspace/src/objective/regression_obj.cu:152: reg:linear is now deprecated in favor of reg:squarederror.\n",
            "[13:28:01] WARNING: /workspace/src/objective/regression_obj.cu:152: reg:linear is now deprecated in favor of reg:squarederror.\n",
            "[13:28:01] WARNING: /workspace/src/objective/regression_obj.cu:152: reg:linear is now deprecated in favor of reg:squarederror.\n",
            "[13:28:01] WARNING: /workspace/src/objective/regression_obj.cu:152: reg:linear is now deprecated in favor of reg:squarederror.\n",
            "[13:28:02] WARNING: /workspace/src/objective/regression_obj.cu:152: reg:linear is now deprecated in favor of reg:squarederror.\n",
            "MSE train data:  1.9995915518117384\n",
            "MSE test data:  14.425125851593297\n",
            "Fitting 5 folds for each of 9 candidates, totalling 45 fits\n",
            "MSE train data:  9.375846158237055\n",
            "MSE test data:  18.640865858236953\n",
            "Fitting 5 folds for each of 9 candidates, totalling 45 fits\n",
            "MSE train data:  14.614661265694723\n",
            "MSE test data:  14.107442483885285\n"
          ]
        }
      ]
    }
  ]
}